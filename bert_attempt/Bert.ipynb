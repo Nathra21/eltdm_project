{
 "cells": [
  {
   "cell_type": "code",
   "execution_count": 1,
   "metadata": {},
   "outputs": [],
   "source": [
    "import torch\n",
    "\n",
    "import pandas as pd\n",
    "\n",
    "from main import load_imdb_model"
   ]
  },
  {
   "cell_type": "code",
   "execution_count": 2,
   "metadata": {},
   "outputs": [
    {
     "data": {
      "text/plain": [
       "0"
      ]
     },
     "execution_count": 2,
     "metadata": {},
     "output_type": "execute_result"
    }
   ],
   "source": [
    "torch.cuda.current_device()"
   ]
  },
  {
   "cell_type": "code",
   "execution_count": 3,
   "metadata": {},
   "outputs": [
    {
     "data": {
      "text/plain": [
       "'GeForce GTX 1660 SUPER'"
      ]
     },
     "execution_count": 3,
     "metadata": {},
     "output_type": "execute_result"
    }
   ],
   "source": [
    "torch.cuda.get_device_name(0)"
   ]
  },
  {
   "cell_type": "code",
   "execution_count": 4,
   "metadata": {},
   "outputs": [],
   "source": [
    "tokenizer, model = load_imdb_model()"
   ]
  },
  {
   "cell_type": "markdown",
   "metadata": {},
   "source": [
    "Test du tokenizer"
   ]
  },
  {
   "cell_type": "markdown",
   "metadata": {},
   "source": [
    "```python\n",
    "tokenizer.encode(\"Hi, how are you ?\")\n",
    "\n",
    "tokenizer.decode([101, 8790, 117, 1293, 1132, 1128, 136, 102])\n",
    "```"
   ]
  },
  {
   "cell_type": "code",
   "execution_count": 5,
   "metadata": {},
   "outputs": [],
   "source": [
    "df = pd.read_csv(\"imdb/imdb.csv\")"
   ]
  },
  {
   "cell_type": "code",
   "execution_count": 6,
   "metadata": {},
   "outputs": [
    {
     "data": {
      "text/plain": [
       "(50000, 2)"
      ]
     },
     "execution_count": 6,
     "metadata": {},
     "output_type": "execute_result"
    }
   ],
   "source": [
    "df.shape"
   ]
  },
  {
   "cell_type": "code",
   "execution_count": 7,
   "metadata": {},
   "outputs": [
    {
     "data": {
      "text/html": [
       "<div>\n",
       "<style scoped>\n",
       "    .dataframe tbody tr th:only-of-type {\n",
       "        vertical-align: middle;\n",
       "    }\n",
       "\n",
       "    .dataframe tbody tr th {\n",
       "        vertical-align: top;\n",
       "    }\n",
       "\n",
       "    .dataframe thead th {\n",
       "        text-align: right;\n",
       "    }\n",
       "</style>\n",
       "<table border=\"1\" class=\"dataframe\">\n",
       "  <thead>\n",
       "    <tr style=\"text-align: right;\">\n",
       "      <th></th>\n",
       "      <th>review</th>\n",
       "      <th>sentiment</th>\n",
       "    </tr>\n",
       "  </thead>\n",
       "  <tbody>\n",
       "    <tr>\n",
       "      <th>0</th>\n",
       "      <td>One of the other reviewers has mentioned that ...</td>\n",
       "      <td>positive</td>\n",
       "    </tr>\n",
       "    <tr>\n",
       "      <th>1</th>\n",
       "      <td>A wonderful little production. &lt;br /&gt;&lt;br /&gt;The...</td>\n",
       "      <td>positive</td>\n",
       "    </tr>\n",
       "    <tr>\n",
       "      <th>2</th>\n",
       "      <td>I thought this was a wonderful way to spend ti...</td>\n",
       "      <td>positive</td>\n",
       "    </tr>\n",
       "    <tr>\n",
       "      <th>3</th>\n",
       "      <td>Basically there's a family where a little boy ...</td>\n",
       "      <td>negative</td>\n",
       "    </tr>\n",
       "    <tr>\n",
       "      <th>4</th>\n",
       "      <td>Petter Mattei's \"Love in the Time of Money\" is...</td>\n",
       "      <td>positive</td>\n",
       "    </tr>\n",
       "  </tbody>\n",
       "</table>\n",
       "</div>"
      ],
      "text/plain": [
       "                                              review sentiment\n",
       "0  One of the other reviewers has mentioned that ...  positive\n",
       "1  A wonderful little production. <br /><br />The...  positive\n",
       "2  I thought this was a wonderful way to spend ti...  positive\n",
       "3  Basically there's a family where a little boy ...  negative\n",
       "4  Petter Mattei's \"Love in the Time of Money\" is...  positive"
      ]
     },
     "execution_count": 7,
     "metadata": {},
     "output_type": "execute_result"
    }
   ],
   "source": [
    "df.head()"
   ]
  },
  {
   "cell_type": "code",
   "execution_count": 8,
   "metadata": {},
   "outputs": [
    {
     "data": {
      "text/html": [
       "<div>\n",
       "<style scoped>\n",
       "    .dataframe tbody tr th:only-of-type {\n",
       "        vertical-align: middle;\n",
       "    }\n",
       "\n",
       "    .dataframe tbody tr th {\n",
       "        vertical-align: top;\n",
       "    }\n",
       "\n",
       "    .dataframe thead th {\n",
       "        text-align: right;\n",
       "    }\n",
       "</style>\n",
       "<table border=\"1\" class=\"dataframe\">\n",
       "  <thead>\n",
       "    <tr style=\"text-align: right;\">\n",
       "      <th></th>\n",
       "      <th>review</th>\n",
       "      <th>sentiment</th>\n",
       "    </tr>\n",
       "  </thead>\n",
       "  <tbody>\n",
       "    <tr>\n",
       "      <th>17557</th>\n",
       "      <td>Giant crabs cursing in Japanese? What was in t...</td>\n",
       "      <td>negative</td>\n",
       "    </tr>\n",
       "    <tr>\n",
       "      <th>5312</th>\n",
       "      <td>The cast is admirably chosen and well-balanced...</td>\n",
       "      <td>positive</td>\n",
       "    </tr>\n",
       "    <tr>\n",
       "      <th>2210</th>\n",
       "      <td>One of the better movies to come out of the 19...</td>\n",
       "      <td>positive</td>\n",
       "    </tr>\n",
       "    <tr>\n",
       "      <th>9261</th>\n",
       "      <td>Move over Manos. Back off Boogens. It doesn't ...</td>\n",
       "      <td>negative</td>\n",
       "    </tr>\n",
       "    <tr>\n",
       "      <th>39404</th>\n",
       "      <td>Being advertised as the most expensive movie e...</td>\n",
       "      <td>positive</td>\n",
       "    </tr>\n",
       "  </tbody>\n",
       "</table>\n",
       "</div>"
      ],
      "text/plain": [
       "                                                  review sentiment\n",
       "17557  Giant crabs cursing in Japanese? What was in t...  negative\n",
       "5312   The cast is admirably chosen and well-balanced...  positive\n",
       "2210   One of the better movies to come out of the 19...  positive\n",
       "9261   Move over Manos. Back off Boogens. It doesn't ...  negative\n",
       "39404  Being advertised as the most expensive movie e...  positive"
      ]
     },
     "execution_count": 8,
     "metadata": {},
     "output_type": "execute_result"
    }
   ],
   "source": [
    "sample = df.sample(n=64, random_state=2021)\n",
    "sample.head()"
   ]
  },
  {
   "cell_type": "code",
   "execution_count": 9,
   "metadata": {},
   "outputs": [],
   "source": [
    "embedded = tokenizer.batch_encode_plus(sample[\"review\"].tolist(), padding=True, truncation=True, max_length=512)"
   ]
  },
  {
   "cell_type": "code",
   "execution_count": 10,
   "metadata": {},
   "outputs": [
    {
     "data": {
      "text/plain": [
       "tensor([[  101, 12510, 24121,  ...,     0,     0,     0],\n",
       "        [  101,  1109,  2641,  ...,     0,     0,     0],\n",
       "        [  101,  1448,  1104,  ...,     0,     0,     0],\n",
       "        ...,\n",
       "        [  101,   146,   112,  ...,     0,     0,     0],\n",
       "        [  101,  1130,  1126,  ...,     0,     0,     0],\n",
       "        [  101,  1109, 15882,  ...,     0,     0,     0]], device='cuda:0')"
      ]
     },
     "execution_count": 10,
     "metadata": {},
     "output_type": "execute_result"
    }
   ],
   "source": [
    "input = torch.tensor(embedded[\"input_ids\"]).cuda()\n",
    "input"
   ]
  },
  {
   "cell_type": "code",
   "execution_count": 14,
   "metadata": {},
   "outputs": [
    {
     "data": {
      "text/plain": [
       "torch.Size([64, 512])"
      ]
     },
     "execution_count": 14,
     "metadata": {},
     "output_type": "execute_result"
    }
   ],
   "source": [
    "input.shape"
   ]
  },
  {
   "cell_type": "code",
   "execution_count": 15,
   "metadata": {},
   "outputs": [],
   "source": [
    "with torch.autograd.profiler.profile(use_cuda=True) as prof:\n",
    "    output = model(input)"
   ]
  },
  {
   "cell_type": "code",
   "execution_count": 16,
   "metadata": {},
   "outputs": [
    {
     "name": "stdout",
     "output_type": "stream",
     "text": [
      "---------------------------  ------------  ------------  ------------  ------------  ------------  ------------  ------------  ------------  ------------  ------------  \n",
      "                       Name    Self CPU %      Self CPU   CPU total %     CPU total  CPU time avg     Self CUDA   Self CUDA %    CUDA total  CUDA time avg    # of Calls  \n",
      "---------------------------  ------------  ------------  ------------  ------------  ------------  ------------  ------------  ------------  ------------  ------------  \n",
      "                   aten::mm         2.37%      78.676ms         2.41%      80.047ms     555.880us        4.582s        71.43%        4.582s      31.816ms           144  \n",
      "                  aten::bmm         0.07%       2.480ms         0.15%       4.945ms     103.014us     588.100ms         9.17%     588.100ms      12.252ms            48  \n",
      "                  aten::add         3.39%     112.646ms         3.42%     113.555ms       1.556ms     279.911ms         4.36%     279.911ms       3.834ms            73  \n",
      "                 aten::add_        10.78%     358.317ms        10.78%     358.317ms       2.471ms     225.165ms         3.51%     225.165ms       1.553ms           145  \n",
      "                  aten::div         0.02%     803.155us         0.08%       2.793ms     116.372us     199.363ms         3.11%     199.363ms       8.307ms            24  \n",
      "             aten::_softmax         1.15%      38.199ms         1.16%      38.623ms       1.609ms     193.206ms         3.01%     193.231ms       8.051ms            24  \n",
      "                aten::copy_         9.53%     316.758ms         9.53%     316.758ms       3.300ms     130.571ms         2.04%     130.571ms       1.360ms            96  \n",
      "    aten::native_layer_norm         0.06%       1.888ms         0.08%       2.776ms      56.648us     109.656ms         1.71%     109.656ms       2.238ms            49  \n",
      "                 aten::gelu         0.65%      21.651ms         0.66%      21.806ms     908.589us      99.419ms         1.55%      99.419ms       4.142ms            24  \n",
      "         aten::index_select         0.03%       1.125ms         0.03%       1.148ms     382.617us       3.615ms         0.06%       3.615ms       1.205ms             3  \n",
      "               aten::matmul         8.79%     292.081ms        31.48%        1.046s       5.449ms       1.281ms         0.02%        5.275s      27.477ms           192  \n",
      "                 aten::rsub         0.00%     133.744us         0.01%     428.492us     428.492us     427.232us         0.01%     427.232us     427.232us             1  \n",
      "           aten::contiguous        10.45%     347.155ms        20.06%     666.744ms       2.315ms     399.441us         0.01%     130.970ms     454.758us           288  \n",
      "              aten::permute         4.98%     165.608ms         4.99%     165.913ms       1.728ms     289.277us         0.00%     289.277us       3.013us            96  \n",
      "                aten::fill_         0.00%      68.875us         0.00%      68.875us      34.437us     132.096us         0.00%     132.096us      66.048us             2  \n",
      "           aten::layer_norm        44.71%        1.486s        44.79%        1.489s      30.379ms      96.136us         0.00%     109.753ms       2.240ms            49  \n",
      "              aten::dropout         2.33%      77.500ms         2.33%      77.500ms       1.047ms      91.089us         0.00%      91.089us       1.231us            74  \n",
      "                  aten::mul         0.00%      73.703us         0.00%      79.681us      79.681us      78.240us         0.00%      78.240us      78.240us             1  \n",
      "                aten::addmm         0.02%     807.844us         0.03%     839.810us     419.905us      74.000us         0.00%      74.000us      37.000us             2  \n",
      "              aten::softmax         0.01%     311.606us         1.17%      38.935ms       1.622ms      52.008us         0.00%     193.283ms       8.053ms            24  \n",
      "            aten::embedding         0.00%     100.945us         0.04%       1.285ms     428.393us      43.199us         0.00%       3.673ms       1.224ms             3  \n",
      "                 aten::ones         0.00%      24.183us         0.00%      86.875us      86.875us      30.912us         0.00%     142.752us     142.752us             1  \n",
      "                aten::zeros         0.00%      19.104us         0.00%      55.950us      55.950us      23.104us         0.00%      53.664us      53.664us             1  \n",
      "              aten::reshape         0.00%      18.845us         0.00%      27.150us       9.050us      15.264us         0.00%      15.264us       5.088us             3  \n",
      "                aten::zero_         0.00%      11.138us         0.00%      30.824us      30.824us      10.304us         0.00%      30.560us      30.560us             1  \n",
      "                 aten::tanh         0.05%       1.599ms         0.05%       1.690ms     844.986us       8.500us         0.00%      13.000us       6.500us             2  \n",
      "                   aten::to         0.00%       8.483us         0.00%       8.483us       8.483us       7.232us         0.00%       7.232us       7.232us             1  \n",
      "               aten::select         0.00%      17.622us         0.00%      18.827us      18.827us       2.000us         0.00%       2.000us       2.000us             1  \n",
      "                aten::empty         0.24%       7.997ms         0.24%       7.997ms      13.554us       0.000us         0.00%       0.000us       0.000us           590  \n",
      "                aten::slice         0.00%      39.936us         0.00%      50.893us      12.723us       0.000us         0.00%       0.000us       0.000us             4  \n",
      "           aten::as_strided         0.03%       1.041ms         0.03%       1.041ms       2.807us       0.000us         0.00%       0.000us       0.000us           371  \n",
      "            aten::unsqueeze         0.00%      18.091us         0.00%      21.069us      10.534us       0.000us         0.00%       0.000us       0.000us             2  \n",
      "                 aten::view         0.10%       3.388ms         0.10%       3.388ms       6.345us       0.000us         0.00%       0.000us       0.000us           534  \n",
      "               aten::stride         0.01%     260.893us         0.01%     260.893us       0.557us       0.000us         0.00%       0.000us       0.000us           468  \n",
      "                    aten::t         0.04%       1.252ms         0.07%       2.246ms      15.386us       0.000us         0.00%       0.000us       0.000us           146  \n",
      "            aten::transpose         0.02%     692.482us         0.04%       1.179ms       6.936us       0.000us         0.00%       0.000us       0.000us           170  \n",
      "         aten::_unsafe_view         0.03%     996.697us         0.05%       1.555ms       8.098us       0.000us         0.00%       0.000us       0.000us           192  \n",
      "               aten::expand         0.02%     738.259us         0.03%     972.427us       9.923us       0.000us         0.00%       0.000us       0.000us            98  \n",
      "           aten::empty_like         0.02%     729.121us         0.09%       3.126ms      26.047us       0.000us         0.00%       0.000us       0.000us           120  \n",
      "              aten::resize_         0.07%       2.300ms         0.07%       2.300ms      45.106us       0.000us         0.00%       0.000us       0.000us            51  \n",
      "---------------------------  ------------  ------------  ------------  ------------  ------------  ------------  ------------  ------------  ------------  ------------  \n",
      "Self CPU time total: 3.323s\n",
      "CUDA time total: 6.414s\n",
      "\n"
     ]
    }
   ],
   "source": [
    "print(prof.key_averages().table(sort_by=\"self_cuda_time_total\"))"
   ]
  },
  {
   "cell_type": "code",
   "execution_count": 18,
   "metadata": {},
   "outputs": [],
   "source": [
    "import cProfile\n",
    "cProfile.run('model(input)', 'output.pstats')"
   ]
  },
  {
   "cell_type": "code",
   "execution_count": 1,
   "metadata": {},
   "outputs": [],
   "source": [
    "from transformers import PyTorchBenchmark, PyTorchBenchmarkArguments\n",
    "args = PyTorchBenchmarkArguments(models=[\"lvwerra/bert-imdb\"], batch_sizes=[8, 16, 32, 64], sequence_lengths=[512])\n",
    "benchmark = PyTorchBenchmark(args)"
   ]
  },
  {
   "cell_type": "code",
   "execution_count": 2,
   "metadata": {},
   "outputs": [
    {
     "name": "stdout",
     "output_type": "stream",
     "text": [
      "1 / 1\n",
      "\n",
      "====================       INFERENCE - SPEED - RESULT       ====================\n",
      "--------------------------------------------------------------------------------\n",
      "          Model Name             Batch Size     Seq Length     Time in s   \n",
      "--------------------------------------------------------------------------------\n",
      "      lvwerra/bert-imdb              8              512            0.666     \n",
      "      lvwerra/bert-imdb              16             512            1.331     \n",
      "      lvwerra/bert-imdb              32             512            2.659     \n",
      "      lvwerra/bert-imdb              64             512            5.342     \n",
      "--------------------------------------------------------------------------------\n",
      "\n",
      "====================      INFERENCE - MEMORY - RESULT       ====================\n",
      "--------------------------------------------------------------------------------\n",
      "          Model Name             Batch Size     Seq Length    Memory in MB \n",
      "--------------------------------------------------------------------------------\n",
      "      lvwerra/bert-imdb              8              512             3119     \n",
      "      lvwerra/bert-imdb              16             512             3482     \n",
      "      lvwerra/bert-imdb              32             512             4195     \n",
      "      lvwerra/bert-imdb              64             512             5669     \n",
      "--------------------------------------------------------------------------------\n"
     ]
    }
   ],
   "source": [
    "results = benchmark.run()"
   ]
  },
  {
   "cell_type": "code",
   "execution_count": null,
   "metadata": {},
   "outputs": [],
   "source": []
  }
 ],
 "metadata": {
  "kernelspec": {
   "display_name": "Python 3",
   "language": "python",
   "name": "python3"
  },
  "language_info": {
   "codemirror_mode": {
    "name": "ipython",
    "version": 3
   },
   "file_extension": ".py",
   "mimetype": "text/x-python",
   "name": "python",
   "nbconvert_exporter": "python",
   "pygments_lexer": "ipython3",
   "version": "3.8.6"
  }
 },
 "nbformat": 4,
 "nbformat_minor": 4
}
