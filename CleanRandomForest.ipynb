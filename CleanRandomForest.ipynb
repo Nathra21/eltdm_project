{
 "cells": [
  {
   "cell_type": "code",
   "execution_count": 1,
   "metadata": {},
   "outputs": [],
   "source": [
    "%load_ext autoreload\n",
    "%autoreload 2\n",
    "from sklearn.ensemble import RandomForestClassifier\n",
    "from sklearn.datasets import make_classification\n",
    "from sklearn.tree import plot_tree\n",
    "\n",
    "import matplotlib.pyplot as plt\n",
    "import numpy as np\n",
    "import pandas as pd\n",
    "import torch\n",
    "from hummingbird.ml import convert\n",
    "\n",
    "from random_forest_pytorch.random_forest_gemm import RandomForestGEMM"
   ]
  },
  {
   "cell_type": "code",
   "execution_count": 2,
   "metadata": {},
   "outputs": [
    {
     "data": {
      "text/plain": [
       "RandomForestClassifier(max_depth=2, random_state=0)"
      ]
     },
     "execution_count": 2,
     "metadata": {},
     "output_type": "execute_result"
    }
   ],
   "source": [
    "# Create RF\n",
    "X, y = make_classification(n_samples=1000, n_features=4,\n",
    "                           n_informative=2, n_redundant=0,\n",
    "                           random_state=0, shuffle=False)\n",
    "clf = RandomForestClassifier(max_depth=2, random_state=0)\n",
    "clf.fit(X, y)"
   ]
  },
  {
   "cell_type": "code",
   "execution_count": 3,
   "metadata": {},
   "outputs": [],
   "source": [
    "rf_np = RandomForestGEMM(clf, \"numpy\")\n",
    "rf_pt = RandomForestGEMM(clf, \"torch\")\n",
    "rf_pt_cuda = RandomForestGEMM(clf, \"torch\", \"cuda\")\n",
    "\n",
    "rf_hb = convert(clf, \"pytorch\")\n",
    "rf_hb_cuda = convert(clf, \"pytorch\").to(\"cuda\")\n",
    "\n",
    "X_pt = torch.Tensor(X)\n",
    "X_pt_cuda = X_pt.cuda()"
   ]
  },
  {
   "cell_type": "code",
   "execution_count": 4,
   "metadata": {},
   "outputs": [
    {
     "name": "stdout",
     "output_type": "stream",
     "text": [
      "11.1 ms ± 24.3 µs per loop (mean ± std. dev. of 7 runs, 100 loops each)\n"
     ]
    }
   ],
   "source": [
    "%timeit clf.predict(X)"
   ]
  },
  {
   "cell_type": "code",
   "execution_count": 5,
   "metadata": {},
   "outputs": [
    {
     "name": "stdout",
     "output_type": "stream",
     "text": [
      "4.92 ms ± 297 µs per loop (mean ± std. dev. of 7 runs, 100 loops each)\n"
     ]
    }
   ],
   "source": [
    "%timeit rf_np.predict(X)"
   ]
  },
  {
   "cell_type": "code",
   "execution_count": 6,
   "metadata": {},
   "outputs": [
    {
     "name": "stdout",
     "output_type": "stream",
     "text": [
      "990 µs ± 68.3 µs per loop (mean ± std. dev. of 7 runs, 1000 loops each)\n"
     ]
    }
   ],
   "source": [
    "%timeit rf_pt.predict(X_pt)"
   ]
  },
  {
   "cell_type": "code",
   "execution_count": 7,
   "metadata": {},
   "outputs": [
    {
     "name": "stdout",
     "output_type": "stream",
     "text": [
      "377 µs ± 359 ns per loop (mean ± std. dev. of 7 runs, 1000 loops each)\n"
     ]
    }
   ],
   "source": [
    "%timeit rf_pt_cuda.predict(X_pt_cuda)"
   ]
  },
  {
   "cell_type": "code",
   "execution_count": 8,
   "metadata": {},
   "outputs": [
    {
     "name": "stdout",
     "output_type": "stream",
     "text": [
      "713 µs ± 7.44 µs per loop (mean ± std. dev. of 7 runs, 1000 loops each)\n"
     ]
    }
   ],
   "source": [
    "%timeit rf_hb.predict(X_pt)"
   ]
  },
  {
   "cell_type": "code",
   "execution_count": 9,
   "metadata": {},
   "outputs": [
    {
     "name": "stdout",
     "output_type": "stream",
     "text": [
      "352 µs ± 2.19 µs per loop (mean ± std. dev. of 7 runs, 1000 loops each)\n"
     ]
    }
   ],
   "source": [
    "%timeit rf_hb_cuda.predict(X_pt_cuda)"
   ]
  },
  {
   "cell_type": "code",
   "execution_count": 10,
   "metadata": {},
   "outputs": [
    {
     "data": {
      "text/plain": [
       "True"
      ]
     },
     "execution_count": 10,
     "metadata": {},
     "output_type": "execute_result"
    }
   ],
   "source": [
    "np.all(rf_pt_cuda.predict(X_pt_cuda).cpu().numpy() == clf.predict(X))"
   ]
  },
  {
   "cell_type": "code",
   "execution_count": 1,
   "metadata": {},
   "outputs": [
    {
     "data": {
      "text/plain": [
       "29.44297082228117"
      ]
     },
     "execution_count": 1,
     "metadata": {},
     "output_type": "execute_result"
    }
   ],
   "source": [
    "11.1*1000 / 377"
   ]
  },
  {
   "cell_type": "code",
   "execution_count": 2,
   "metadata": {},
   "outputs": [
    {
     "data": {
      "text/plain": [
       "1.0710227272727273"
      ]
     },
     "execution_count": 2,
     "metadata": {},
     "output_type": "execute_result"
    }
   ],
   "source": [
    "377 / 352"
   ]
  },
  {
   "cell_type": "markdown",
   "metadata": {},
   "source": [
    "### Profiling avec code customisé (cf ``utils.py``)"
   ]
  },
  {
   "cell_type": "code",
   "execution_count": 12,
   "metadata": {},
   "outputs": [],
   "source": [
    "from random_forest_pytorch.utils import profile_command, analyze_stack"
   ]
  },
  {
   "cell_type": "code",
   "execution_count": 14,
   "metadata": {},
   "outputs": [],
   "source": [
    "pdf = pd.read_pickle(\"pdf.pickle\")"
   ]
  },
  {
   "cell_type": "code",
   "execution_count": 15,
   "metadata": {},
   "outputs": [
    {
     "data": {
      "text/plain": [
       "['/home/jovyan/work/ELTDM/eltdm_project/random_forest_pytorch/random_forest_gemm.py(113): vote',\n",
       " '/home/jovyan/work/ELTDM/eltdm_project/random_forest_pytorch/random_forest_gemm.py(117): predict',\n",
       " 'run_profile.py(26): wrapper',\n",
       " '/home/jovyan/work/ELTDM/eltdm_project/random_forest_pytorch/utils.py(70): profile_command',\n",
       " 'run_profile.py(28): <module>']"
      ]
     },
     "execution_count": 15,
     "metadata": {},
     "output_type": "execute_result"
    }
   ],
   "source": [
    "pdf.sort_values(\"cuda\", ascending=False).head()[\"stack\"].values[0]"
   ]
  },
  {
   "cell_type": "code",
   "execution_count": 16,
   "metadata": {},
   "outputs": [
    {
     "data": {
      "text/html": [
       "<div>\n",
       "<style scoped>\n",
       "    .dataframe tbody tr th:only-of-type {\n",
       "        vertical-align: middle;\n",
       "    }\n",
       "\n",
       "    .dataframe tbody tr th {\n",
       "        vertical-align: top;\n",
       "    }\n",
       "\n",
       "    .dataframe thead th {\n",
       "        text-align: right;\n",
       "    }\n",
       "</style>\n",
       "<table border=\"1\" class=\"dataframe\">\n",
       "  <thead>\n",
       "    <tr style=\"text-align: right;\">\n",
       "      <th></th>\n",
       "      <th>name</th>\n",
       "      <th>cpu</th>\n",
       "      <th>cuda</th>\n",
       "      <th>stack</th>\n",
       "    </tr>\n",
       "  </thead>\n",
       "  <tbody>\n",
       "    <tr>\n",
       "      <th>3402</th>\n",
       "      <td>aten::_cat</td>\n",
       "      <td>268.960</td>\n",
       "      <td>2224.218750</td>\n",
       "      <td>[/home/jovyan/work/ELTDM/eltdm_project/random_...</td>\n",
       "    </tr>\n",
       "    <tr>\n",
       "      <th>3200</th>\n",
       "      <td>aten::stack</td>\n",
       "      <td>116.082</td>\n",
       "      <td>1625.882812</td>\n",
       "      <td>[/home/jovyan/work/ELTDM/eltdm_project/random_...</td>\n",
       "    </tr>\n",
       "    <tr>\n",
       "      <th>1</th>\n",
       "      <td>aten::mm</td>\n",
       "      <td>711.122</td>\n",
       "      <td>753.664001</td>\n",
       "      <td>[/home/jovyan/work/ELTDM/eltdm_project/random_...</td>\n",
       "    </tr>\n",
       "    <tr>\n",
       "      <th>1422</th>\n",
       "      <td>aten::mm</td>\n",
       "      <td>47.186</td>\n",
       "      <td>306.976562</td>\n",
       "      <td>[/home/jovyan/work/ELTDM/eltdm_project/random_...</td>\n",
       "    </tr>\n",
       "    <tr>\n",
       "      <th>2766</th>\n",
       "      <td>aten::mm</td>\n",
       "      <td>60.302</td>\n",
       "      <td>304.351562</td>\n",
       "      <td>[/home/jovyan/work/ELTDM/eltdm_project/random_...</td>\n",
       "    </tr>\n",
       "    <tr>\n",
       "      <th>750</th>\n",
       "      <td>aten::mm</td>\n",
       "      <td>55.349</td>\n",
       "      <td>293.759766</td>\n",
       "      <td>[/home/jovyan/work/ELTDM/eltdm_project/random_...</td>\n",
       "    </tr>\n",
       "    <tr>\n",
       "      <th>987</th>\n",
       "      <td>aten::mm</td>\n",
       "      <td>93.551</td>\n",
       "      <td>285.568359</td>\n",
       "      <td>[/home/jovyan/work/ELTDM/eltdm_project/random_...</td>\n",
       "    </tr>\n",
       "    <tr>\n",
       "      <th>1595</th>\n",
       "      <td>aten::mm</td>\n",
       "      <td>42.811</td>\n",
       "      <td>285.503906</td>\n",
       "      <td>[/home/jovyan/work/ELTDM/eltdm_project/random_...</td>\n",
       "    </tr>\n",
       "    <tr>\n",
       "      <th>2093</th>\n",
       "      <td>aten::matmul</td>\n",
       "      <td>37.512</td>\n",
       "      <td>256.226562</td>\n",
       "      <td>[/home/jovyan/work/ELTDM/eltdm_project/random_...</td>\n",
       "    </tr>\n",
       "    <tr>\n",
       "      <th>53</th>\n",
       "      <td>aten::eq</td>\n",
       "      <td>42.337</td>\n",
       "      <td>255.296143</td>\n",
       "      <td>[/opt/conda/lib/python3.8/site-packages/torch/...</td>\n",
       "    </tr>\n",
       "    <tr>\n",
       "      <th>1806</th>\n",
       "      <td>aten::mm</td>\n",
       "      <td>55.263</td>\n",
       "      <td>207.230469</td>\n",
       "      <td>[/home/jovyan/work/ELTDM/eltdm_project/random_...</td>\n",
       "    </tr>\n",
       "    <tr>\n",
       "      <th>2945</th>\n",
       "      <td>aten::mm</td>\n",
       "      <td>55.147</td>\n",
       "      <td>186.367188</td>\n",
       "      <td>[/home/jovyan/work/ELTDM/eltdm_project/random_...</td>\n",
       "    </tr>\n",
       "    <tr>\n",
       "      <th>2369</th>\n",
       "      <td>aten::mm</td>\n",
       "      <td>50.152</td>\n",
       "      <td>186.175781</td>\n",
       "      <td>[/home/jovyan/work/ELTDM/eltdm_project/random_...</td>\n",
       "    </tr>\n",
       "    <tr>\n",
       "      <th>435</th>\n",
       "      <td>aten::eq</td>\n",
       "      <td>45.514</td>\n",
       "      <td>183.744141</td>\n",
       "      <td>[/opt/conda/lib/python3.8/site-packages/torch/...</td>\n",
       "    </tr>\n",
       "    <tr>\n",
       "      <th>2939</th>\n",
       "      <td>aten::mm</td>\n",
       "      <td>105.562</td>\n",
       "      <td>183.140625</td>\n",
       "      <td>[/home/jovyan/work/ELTDM/eltdm_project/random_...</td>\n",
       "    </tr>\n",
       "    <tr>\n",
       "      <th>1523</th>\n",
       "      <td>aten::eq</td>\n",
       "      <td>36.350</td>\n",
       "      <td>170.847656</td>\n",
       "      <td>[/opt/conda/lib/python3.8/site-packages/torch/...</td>\n",
       "    </tr>\n",
       "    <tr>\n",
       "      <th>603</th>\n",
       "      <td>aten::mm</td>\n",
       "      <td>90.801</td>\n",
       "      <td>165.568359</td>\n",
       "      <td>[/home/jovyan/work/ELTDM/eltdm_project/random_...</td>\n",
       "    </tr>\n",
       "    <tr>\n",
       "      <th>795</th>\n",
       "      <td>aten::mm</td>\n",
       "      <td>41.179</td>\n",
       "      <td>164.126953</td>\n",
       "      <td>[/home/jovyan/work/ELTDM/eltdm_project/random_...</td>\n",
       "    </tr>\n",
       "    <tr>\n",
       "      <th>2510</th>\n",
       "      <td>aten::mm</td>\n",
       "      <td>50.378</td>\n",
       "      <td>160.867188</td>\n",
       "      <td>[/home/jovyan/work/ELTDM/eltdm_project/random_...</td>\n",
       "    </tr>\n",
       "    <tr>\n",
       "      <th>2907</th>\n",
       "      <td>aten::mm</td>\n",
       "      <td>47.725</td>\n",
       "      <td>158.367188</td>\n",
       "      <td>[/home/jovyan/work/ELTDM/eltdm_project/random_...</td>\n",
       "    </tr>\n",
       "  </tbody>\n",
       "</table>\n",
       "</div>"
      ],
      "text/plain": [
       "              name      cpu         cuda  \\\n",
       "3402    aten::_cat  268.960  2224.218750   \n",
       "3200   aten::stack  116.082  1625.882812   \n",
       "1         aten::mm  711.122   753.664001   \n",
       "1422      aten::mm   47.186   306.976562   \n",
       "2766      aten::mm   60.302   304.351562   \n",
       "750       aten::mm   55.349   293.759766   \n",
       "987       aten::mm   93.551   285.568359   \n",
       "1595      aten::mm   42.811   285.503906   \n",
       "2093  aten::matmul   37.512   256.226562   \n",
       "53        aten::eq   42.337   255.296143   \n",
       "1806      aten::mm   55.263   207.230469   \n",
       "2945      aten::mm   55.147   186.367188   \n",
       "2369      aten::mm   50.152   186.175781   \n",
       "435       aten::eq   45.514   183.744141   \n",
       "2939      aten::mm  105.562   183.140625   \n",
       "1523      aten::eq   36.350   170.847656   \n",
       "603       aten::mm   90.801   165.568359   \n",
       "795       aten::mm   41.179   164.126953   \n",
       "2510      aten::mm   50.378   160.867188   \n",
       "2907      aten::mm   47.725   158.367188   \n",
       "\n",
       "                                                  stack  \n",
       "3402  [/home/jovyan/work/ELTDM/eltdm_project/random_...  \n",
       "3200  [/home/jovyan/work/ELTDM/eltdm_project/random_...  \n",
       "1     [/home/jovyan/work/ELTDM/eltdm_project/random_...  \n",
       "1422  [/home/jovyan/work/ELTDM/eltdm_project/random_...  \n",
       "2766  [/home/jovyan/work/ELTDM/eltdm_project/random_...  \n",
       "750   [/home/jovyan/work/ELTDM/eltdm_project/random_...  \n",
       "987   [/home/jovyan/work/ELTDM/eltdm_project/random_...  \n",
       "1595  [/home/jovyan/work/ELTDM/eltdm_project/random_...  \n",
       "2093  [/home/jovyan/work/ELTDM/eltdm_project/random_...  \n",
       "53    [/opt/conda/lib/python3.8/site-packages/torch/...  \n",
       "1806  [/home/jovyan/work/ELTDM/eltdm_project/random_...  \n",
       "2945  [/home/jovyan/work/ELTDM/eltdm_project/random_...  \n",
       "2369  [/home/jovyan/work/ELTDM/eltdm_project/random_...  \n",
       "435   [/opt/conda/lib/python3.8/site-packages/torch/...  \n",
       "2939  [/home/jovyan/work/ELTDM/eltdm_project/random_...  \n",
       "1523  [/opt/conda/lib/python3.8/site-packages/torch/...  \n",
       "603   [/home/jovyan/work/ELTDM/eltdm_project/random_...  \n",
       "795   [/home/jovyan/work/ELTDM/eltdm_project/random_...  \n",
       "2510  [/home/jovyan/work/ELTDM/eltdm_project/random_...  \n",
       "2907  [/home/jovyan/work/ELTDM/eltdm_project/random_...  "
      ]
     },
     "execution_count": 16,
     "metadata": {},
     "output_type": "execute_result"
    }
   ],
   "source": [
    "pdf.sort_values(\"cuda\", ascending=False).head(n=20)"
   ]
  },
  {
   "cell_type": "code",
   "execution_count": 17,
   "metadata": {},
   "outputs": [
    {
     "data": {
      "text/html": [
       "<div>\n",
       "<style scoped>\n",
       "    .dataframe tbody tr th:only-of-type {\n",
       "        vertical-align: middle;\n",
       "    }\n",
       "\n",
       "    .dataframe tbody tr th {\n",
       "        vertical-align: top;\n",
       "    }\n",
       "\n",
       "    .dataframe thead th {\n",
       "        text-align: right;\n",
       "    }\n",
       "</style>\n",
       "<table border=\"1\" class=\"dataframe\">\n",
       "  <thead>\n",
       "    <tr style=\"text-align: right;\">\n",
       "      <th></th>\n",
       "      <th>path</th>\n",
       "      <th>line</th>\n",
       "      <th>top</th>\n",
       "      <th>func</th>\n",
       "      <th>content</th>\n",
       "    </tr>\n",
       "  </thead>\n",
       "  <tbody>\n",
       "    <tr>\n",
       "      <th>0</th>\n",
       "      <td>/home/jovyan/work/ELTDM/eltdm_project/random_f...</td>\n",
       "      <td>113</td>\n",
       "      <td>class RandomForestGEMM:</td>\n",
       "      <td>vote</td>\n",
       "      <td>self.n_trees = len(self.trees)</td>\n",
       "    </tr>\n",
       "    <tr>\n",
       "      <th>1</th>\n",
       "      <td>/home/jovyan/work/ELTDM/eltdm_project/random_f...</td>\n",
       "      <td>117</td>\n",
       "      <td>class RandomForestGEMM:</td>\n",
       "      <td>predict</td>\n",
       "      <td>D_stacked = self.back.zeros((self.n_trees, sel...</td>\n",
       "    </tr>\n",
       "    <tr>\n",
       "      <th>2</th>\n",
       "      <td>/home/jovyan/work/ELTDM/eltdm_project/random_f...</td>\n",
       "      <td>70</td>\n",
       "      <td>def profile_command(func):</td>\n",
       "      <td>profile_command</td>\n",
       "      <td>func()</td>\n",
       "    </tr>\n",
       "  </tbody>\n",
       "</table>\n",
       "</div>"
      ],
      "text/plain": [
       "                                                path  line  \\\n",
       "0  /home/jovyan/work/ELTDM/eltdm_project/random_f...   113   \n",
       "1  /home/jovyan/work/ELTDM/eltdm_project/random_f...   117   \n",
       "2  /home/jovyan/work/ELTDM/eltdm_project/random_f...    70   \n",
       "\n",
       "                          top             func  \\\n",
       "0     class RandomForestGEMM:             vote   \n",
       "1     class RandomForestGEMM:          predict   \n",
       "2  def profile_command(func):  profile_command   \n",
       "\n",
       "                                             content  \n",
       "0                     self.n_trees = len(self.trees)  \n",
       "1  D_stacked = self.back.zeros((self.n_trees, sel...  \n",
       "2                                             func()  "
      ]
     },
     "execution_count": 17,
     "metadata": {},
     "output_type": "execute_result"
    }
   ],
   "source": [
    "analyze_stack(pdf.sort_values(\"cuda\", ascending=False).head()[\"stack\"].values[0])"
   ]
  },
  {
   "cell_type": "code",
   "execution_count": null,
   "metadata": {},
   "outputs": [],
   "source": []
  }
 ],
 "metadata": {
  "kernelspec": {
   "display_name": "Python 3",
   "language": "python",
   "name": "python3"
  },
  "language_info": {
   "codemirror_mode": {
    "name": "ipython",
    "version": 3
   },
   "file_extension": ".py",
   "mimetype": "text/x-python",
   "name": "python",
   "nbconvert_exporter": "python",
   "pygments_lexer": "ipython3",
   "version": "3.8.5"
  }
 },
 "nbformat": 4,
 "nbformat_minor": 4
}
