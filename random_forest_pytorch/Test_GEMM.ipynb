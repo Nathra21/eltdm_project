{
 "cells": [
  {
   "cell_type": "markdown",
   "metadata": {},
   "source": [
    "### Reproduction de l'exemple de l'article `Taming Model Serving Complexity, Performance and Cost: A Compilation to Tensor Computations Approach`."
   ]
  },
  {
   "cell_type": "code",
   "execution_count": 1,
   "metadata": {},
   "outputs": [],
   "source": [
    "import numpy as np"
   ]
  },
  {
   "cell_type": "code",
   "execution_count": 2,
   "metadata": {},
   "outputs": [],
   "source": [
    "def compute_path(children_left, children_right, k):\n",
    "    \"\"\"Compute path from nodes (leaf or internal) to root.\n",
    "    Args:\n",
    "        tree\n",
    "        k (int) : index from start\n",
    "    Return:\n",
    "        List of [id, 1] if LeftSubTree, [id, -1] if RightSubTree\n",
    "    \"\"\"\n",
    "    l = [[k,0]]\n",
    "    left = children_left\n",
    "    right = children_right\n",
    "\n",
    "    while l[-1][0] != 0:\n",
    "        parent_left = np.flatnonzero((left == l[-1][0]),)\n",
    "        parent_right = np.flatnonzero((right == l[-1][0]),)\n",
    "\n",
    "        if len(parent_left) > 0:\n",
    "            l.append([parent_left[0], 1])\n",
    "        else:\n",
    "            l.append([parent_right[0], -1])\n",
    "\n",
    "    return l[1:]"
   ]
  },
  {
   "cell_type": "code",
   "execution_count": 3,
   "metadata": {},
   "outputs": [],
   "source": [
    "X = [0.1, 4.6, 1.9, 0.8, 3.5]"
   ]
  },
  {
   "cell_type": "code",
   "execution_count": 4,
   "metadata": {},
   "outputs": [],
   "source": [
    "children_left  = np.array([1, 2, -1, -1, 5, 6, -1, -1, -1])\n",
    "children_right = np.array([4, 3, -1, -1, 8, 7, -1, -1, -1])\n",
    "feature = np.array([2, 1, -2, -2, 4, 2, -2, -2, -2])\n",
    "threshold = np.array([0.5, 2.0, -2, -2, 5.5, 2.4, -2, -2, -2])\n",
    "n_features = 5"
   ]
  },
  {
   "cell_type": "code",
   "execution_count": 5,
   "metadata": {},
   "outputs": [],
   "source": [
    "is_internal_nodes = children_left != children_right\n",
    "internal_nodes = np.flatnonzero(is_internal_nodes)\n",
    "leaf_nodes = np.flatnonzero(~is_internal_nodes)\n",
    "split_features_internal_nodes = feature[internal_nodes]"
   ]
  },
  {
   "cell_type": "code",
   "execution_count": 6,
   "metadata": {},
   "outputs": [
    {
     "data": {
      "text/plain": [
       "array([2, 1, 4, 2])"
      ]
     },
     "execution_count": 6,
     "metadata": {},
     "output_type": "execute_result"
    }
   ],
   "source": [
    "split_features_internal_nodes"
   ]
  },
  {
   "cell_type": "code",
   "execution_count": 7,
   "metadata": {},
   "outputs": [
    {
     "data": {
      "text/plain": [
       "array([[0., 0., 0., 0.],\n",
       "       [0., 1., 0., 0.],\n",
       "       [1., 0., 0., 1.],\n",
       "       [0., 0., 0., 0.],\n",
       "       [0., 0., 1., 0.]])"
      ]
     },
     "execution_count": 7,
     "metadata": {},
     "output_type": "execute_result"
    }
   ],
   "source": [
    "# Matrix A\n",
    "A = np.zeros(shape=(n_features, len(internal_nodes)))\n",
    "for i,j in enumerate(split_features_internal_nodes):\n",
    "    A[j,i] = 1\n",
    "A"
   ]
  },
  {
   "cell_type": "code",
   "execution_count": 8,
   "metadata": {},
   "outputs": [
    {
     "data": {
      "text/plain": [
       "array([0.5, 2. , 5.5, 2.4])"
      ]
     },
     "execution_count": 8,
     "metadata": {},
     "output_type": "execute_result"
    }
   ],
   "source": [
    "# Matrix B\n",
    "B = threshold[internal_nodes]\n",
    "B"
   ]
  },
  {
   "cell_type": "code",
   "execution_count": 9,
   "metadata": {},
   "outputs": [
    {
     "data": {
      "text/plain": [
       "array([[ 1.,  1., -1., -1., -1.],\n",
       "       [ 1., -1.,  0.,  0.,  0.],\n",
       "       [ 0.,  0.,  1.,  1., -1.],\n",
       "       [ 0.,  0.,  1., -1.,  0.]])"
      ]
     },
     "execution_count": 9,
     "metadata": {},
     "output_type": "execute_result"
    }
   ],
   "source": [
    "# Matrix C\n",
    "sub_to_global_internal_nodes = { v:k for k,v in enumerate(internal_nodes) }\n",
    "s_to_g = lambda x : sub_to_global_internal_nodes[x]\n",
    "C = np.zeros(shape=(len(internal_nodes), len(leaf_nodes)))\n",
    "\n",
    "for j, leaf_idx in enumerate(leaf_nodes):\n",
    "    path = compute_path(children_left, children_right, leaf_idx)\n",
    "\n",
    "    for i in range(len(path)):\n",
    "        # Apply transformation on index\n",
    "        # subset (internal nodes)\n",
    "        #      -> global (internal and leaf nodes)\n",
    "        path[i][0] = s_to_g(path[i][0])\n",
    "\n",
    "    for node_idx, value in path:\n",
    "        C[node_idx,j] = value\n",
    "C"
   ]
  },
  {
   "cell_type": "code",
   "execution_count": 10,
   "metadata": {},
   "outputs": [
    {
     "data": {
      "text/plain": [
       "array([2, 1, 2, 1, 0])"
      ]
     },
     "execution_count": 10,
     "metadata": {},
     "output_type": "execute_result"
    }
   ],
   "source": [
    "# Matrix D\n",
    "D = np.sum(C == 1, axis=0)\n",
    "D"
   ]
  },
  {
   "cell_type": "code",
   "execution_count": 11,
   "metadata": {},
   "outputs": [
    {
     "data": {
      "text/plain": [
       "array([[1., 0.],\n",
       "       [0., 1.],\n",
       "       [0., 1.],\n",
       "       [1., 0.],\n",
       "       [1., 0.]])"
      ]
     },
     "execution_count": 11,
     "metadata": {},
     "output_type": "execute_result"
    }
   ],
   "source": [
    "# Matrix E\n",
    "E = np.zeros(shape=(len(leaf_nodes), 2))\n",
    "leaf_to_class = [0, 1, 1, 0, 0]\n",
    "\n",
    "for i in range(len(leaf_nodes)):\n",
    "    E[i,leaf_to_class[i]] = 1\n",
    "E"
   ]
  },
  {
   "cell_type": "code",
   "execution_count": 12,
   "metadata": {},
   "outputs": [
    {
     "data": {
      "text/plain": [
       "array([False, False,  True,  True])"
      ]
     },
     "execution_count": 12,
     "metadata": {},
     "output_type": "execute_result"
    }
   ],
   "source": [
    "T = (X@A) < B\n",
    "T"
   ]
  },
  {
   "cell_type": "code",
   "execution_count": 13,
   "metadata": {},
   "outputs": [
    {
     "data": {
      "text/plain": [
       "array([False, False,  True, False, False])"
      ]
     },
     "execution_count": 13,
     "metadata": {},
     "output_type": "execute_result"
    }
   ],
   "source": [
    "T = (T@C) == D\n",
    "T"
   ]
  },
  {
   "cell_type": "code",
   "execution_count": 14,
   "metadata": {},
   "outputs": [
    {
     "data": {
      "text/plain": [
       "array([0., 1.])"
      ]
     },
     "execution_count": 14,
     "metadata": {},
     "output_type": "execute_result"
    }
   ],
   "source": [
    "T@E"
   ]
  },
  {
   "cell_type": "code",
   "execution_count": null,
   "metadata": {},
   "outputs": [],
   "source": []
  }
 ],
 "metadata": {
  "kernelspec": {
   "display_name": "Python 3",
   "language": "python",
   "name": "python3"
  },
  "language_info": {
   "codemirror_mode": {
    "name": "ipython",
    "version": 3
   },
   "file_extension": ".py",
   "mimetype": "text/x-python",
   "name": "python",
   "nbconvert_exporter": "python",
   "pygments_lexer": "ipython3",
   "version": "3.8.6"
  }
 },
 "nbformat": 4,
 "nbformat_minor": 4
}
