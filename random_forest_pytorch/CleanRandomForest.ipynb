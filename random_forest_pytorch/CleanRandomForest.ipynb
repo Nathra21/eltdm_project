{
 "cells": [
  {
   "cell_type": "code",
   "execution_count": 1,
   "metadata": {},
   "outputs": [
    {
     "output_type": "stream",
     "name": "stdout",
     "text": [
      "The autoreload extension is already loaded. To reload it, use:\n  %reload_ext autoreload\n"
     ]
    }
   ],
   "source": [
    "%load_ext autoreload\n",
    "%autoreload 2\n",
    "from sklearn.ensemble import RandomForestClassifier\n",
    "from sklearn.datasets import make_classification\n",
    "from sklearn.tree import plot_tree\n",
    "\n",
    "import matplotlib.pyplot as plt\n",
    "import numpy as np\n",
    "import pandas as pd\n",
    "import torch\n",
    "from hummingbird.ml import convert\n",
    "\n",
    "from random_forest_gemm import DecisionTreeGemm, RandomForestGEMM"
   ]
  },
  {
   "cell_type": "code",
   "execution_count": 2,
   "metadata": {},
   "outputs": [
    {
     "output_type": "execute_result",
     "data": {
      "text/plain": [
       "RandomForestClassifier(max_depth=2, random_state=0)"
      ]
     },
     "metadata": {},
     "execution_count": 2
    }
   ],
   "source": [
    "# Create RF\n",
    "X, y = make_classification(n_samples=1000, n_features=4,\n",
    "                           n_informative=2, n_redundant=0,\n",
    "                           random_state=0, shuffle=False)\n",
    "clf = RandomForestClassifier(max_depth=2, random_state=0)\n",
    "clf.fit(X, y)"
   ]
  },
  {
   "cell_type": "code",
   "execution_count": 4,
   "metadata": {},
   "outputs": [],
   "source": [
    "rf_np = RandomForestGEMM(clf, \"numpy\")\n",
    "rf_pt = RandomForestGEMM(clf, \"torch\")\n",
    "rf_pt_cuda = RandomForestGEMM(clf, \"torch\", \"cuda\")\n",
    "\n",
    "rf_hb = convert(clf, \"pytorch\")\n",
    "rf_hb_cuda = convert(clf, \"pytorch\").to(\"cuda\")\n",
    "\n",
    "X_pt = torch.Tensor(X)\n",
    "X_pt_cuda = X_pt.cuda()"
   ]
  },
  {
   "cell_type": "code",
   "execution_count": 5,
   "metadata": {},
   "outputs": [
    {
     "output_type": "stream",
     "name": "stdout",
     "text": [
      "15.7 ms ± 109 µs per loop (mean ± std. dev. of 7 runs, 100 loops each)\n"
     ]
    }
   ],
   "source": [
    "%timeit clf.predict(X)"
   ]
  },
  {
   "cell_type": "code",
   "execution_count": 6,
   "metadata": {},
   "outputs": [
    {
     "output_type": "stream",
     "name": "stdout",
     "text": [
      "7.4 ms ± 163 µs per loop (mean ± std. dev. of 7 runs, 100 loops each)\n"
     ]
    }
   ],
   "source": [
    "%timeit rf_np.predict(X)"
   ]
  },
  {
   "cell_type": "code",
   "execution_count": 7,
   "metadata": {},
   "outputs": [
    {
     "output_type": "stream",
     "name": "stdout",
     "text": [
      "11.5 ms ± 639 µs per loop (mean ± std. dev. of 7 runs, 100 loops each)\n"
     ]
    }
   ],
   "source": [
    "%timeit rf_pt.predict(X_pt)"
   ]
  },
  {
   "cell_type": "code",
   "execution_count": 8,
   "metadata": {},
   "outputs": [
    {
     "output_type": "stream",
     "name": "stdout",
     "text": [
      "14.5 ms ± 544 µs per loop (mean ± std. dev. of 7 runs, 100 loops each)\n"
     ]
    }
   ],
   "source": [
    "%timeit rf_pt_cuda.predict(X_pt_cuda)"
   ]
  },
  {
   "cell_type": "code",
   "execution_count": 9,
   "metadata": {},
   "outputs": [
    {
     "output_type": "stream",
     "name": "stdout",
     "text": [
      "2.12 ms ± 181 µs per loop (mean ± std. dev. of 7 runs, 100 loops each)\n"
     ]
    }
   ],
   "source": [
    "%timeit rf_hb.predict(X_pt)"
   ]
  },
  {
   "cell_type": "code",
   "execution_count": 10,
   "metadata": {},
   "outputs": [
    {
     "output_type": "stream",
     "name": "stdout",
     "text": [
      "591 µs ± 6.43 µs per loop (mean ± std. dev. of 7 runs, 1000 loops each)\n"
     ]
    }
   ],
   "source": [
    "%timeit rf_hb_cuda.predict(X_pt_cuda)"
   ]
  },
  {
   "cell_type": "markdown",
   "metadata": {},
   "source": [
    "### Profiling avec code customisé (cf ``utils.py``)"
   ]
  },
  {
   "cell_type": "code",
   "execution_count": 8,
   "metadata": {},
   "outputs": [],
   "source": [
    "from utils import profile_command, analyze_stack"
   ]
  },
  {
   "cell_type": "code",
   "execution_count": 9,
   "metadata": {},
   "outputs": [],
   "source": [
    "pdf = pd.read_pickle(\"pdf.pickle\")"
   ]
  },
  {
   "cell_type": "code",
   "execution_count": 10,
   "metadata": {},
   "outputs": [
    {
     "data": {
      "text/plain": [
       "['/home/jovyan/work/ELTDM/eltdm_project/random_forest_pytorch/random_forest_gemm.py(112): vote',\n",
       " '/home/jovyan/work/ELTDM/eltdm_project/random_forest_pytorch/random_forest_gemm.py(115): predict',\n",
       " 'run_profile.py(26): wrapper',\n",
       " '/home/jovyan/work/ELTDM/eltdm_project/random_forest_pytorch/utils.py(70): profile_command',\n",
       " 'run_profile.py(28): <module>']"
      ]
     },
     "execution_count": 10,
     "metadata": {},
     "output_type": "execute_result"
    }
   ],
   "source": [
    "pdf.sort_values(\"cuda\", ascending=False).head()[\"stack\"].values[0]"
   ]
  },
  {
   "cell_type": "code",
   "execution_count": 11,
   "metadata": {},
   "outputs": [
    {
     "data": {
      "text/html": [
       "<div>\n",
       "<style scoped>\n",
       "    .dataframe tbody tr th:only-of-type {\n",
       "        vertical-align: middle;\n",
       "    }\n",
       "\n",
       "    .dataframe tbody tr th {\n",
       "        vertical-align: top;\n",
       "    }\n",
       "\n",
       "    .dataframe thead th {\n",
       "        text-align: right;\n",
       "    }\n",
       "</style>\n",
       "<table border=\"1\" class=\"dataframe\">\n",
       "  <thead>\n",
       "    <tr style=\"text-align: right;\">\n",
       "      <th></th>\n",
       "      <th>name</th>\n",
       "      <th>cpu</th>\n",
       "      <th>cuda</th>\n",
       "      <th>stack</th>\n",
       "    </tr>\n",
       "  </thead>\n",
       "  <tbody>\n",
       "    <tr>\n",
       "      <th>3402</th>\n",
       "      <td>aten::_cat</td>\n",
       "      <td>279.370</td>\n",
       "      <td>2230.718750</td>\n",
       "      <td>[/home/jovyan/work/ELTDM/eltdm_project/random_...</td>\n",
       "    </tr>\n",
       "    <tr>\n",
       "      <th>3200</th>\n",
       "      <td>aten::stack</td>\n",
       "      <td>108.535</td>\n",
       "      <td>1444.257812</td>\n",
       "      <td>[/home/jovyan/work/ELTDM/eltdm_project/random_...</td>\n",
       "    </tr>\n",
       "    <tr>\n",
       "      <th>1</th>\n",
       "      <td>aten::mm</td>\n",
       "      <td>678.319</td>\n",
       "      <td>775.423973</td>\n",
       "      <td>[/home/jovyan/work/ELTDM/eltdm_project/random_...</td>\n",
       "    </tr>\n",
       "    <tr>\n",
       "      <th>2387</th>\n",
       "      <td>aten::eq</td>\n",
       "      <td>47.034</td>\n",
       "      <td>282.207031</td>\n",
       "      <td>[/opt/conda/lib/python3.8/site-packages/torch/...</td>\n",
       "    </tr>\n",
       "    <tr>\n",
       "      <th>302</th>\n",
       "      <td>aten::mm</td>\n",
       "      <td>52.412</td>\n",
       "      <td>278.527832</td>\n",
       "      <td>[/home/jovyan/work/ELTDM/eltdm_project/random_...</td>\n",
       "    </tr>\n",
       "    <tr>\n",
       "      <th>1011</th>\n",
       "      <td>aten::eq</td>\n",
       "      <td>38.013</td>\n",
       "      <td>277.152344</td>\n",
       "      <td>[/opt/conda/lib/python3.8/site-packages/torch/...</td>\n",
       "    </tr>\n",
       "    <tr>\n",
       "      <th>1674</th>\n",
       "      <td>aten::to</td>\n",
       "      <td>30.062</td>\n",
       "      <td>272.734375</td>\n",
       "      <td>[/home/jovyan/work/ELTDM/eltdm_project/random_...</td>\n",
       "    </tr>\n",
       "    <tr>\n",
       "      <th>1486</th>\n",
       "      <td>aten::mm</td>\n",
       "      <td>71.220</td>\n",
       "      <td>227.683594</td>\n",
       "      <td>[/home/jovyan/work/ELTDM/eltdm_project/random_...</td>\n",
       "    </tr>\n",
       "    <tr>\n",
       "      <th>2305</th>\n",
       "      <td>aten::mm</td>\n",
       "      <td>49.285</td>\n",
       "      <td>216.707031</td>\n",
       "      <td>[/home/jovyan/work/ELTDM/eltdm_project/random_...</td>\n",
       "    </tr>\n",
       "    <tr>\n",
       "      <th>1595</th>\n",
       "      <td>aten::mm</td>\n",
       "      <td>42.148</td>\n",
       "      <td>214.652344</td>\n",
       "      <td>[/home/jovyan/work/ELTDM/eltdm_project/random_...</td>\n",
       "    </tr>\n",
       "    <tr>\n",
       "      <th>1243</th>\n",
       "      <td>aten::mm</td>\n",
       "      <td>44.206</td>\n",
       "      <td>209.375000</td>\n",
       "      <td>[/home/jovyan/work/ELTDM/eltdm_project/random_...</td>\n",
       "    </tr>\n",
       "    <tr>\n",
       "      <th>1742</th>\n",
       "      <td>aten::mm</td>\n",
       "      <td>57.338</td>\n",
       "      <td>187.457031</td>\n",
       "      <td>[/home/jovyan/work/ELTDM/eltdm_project/random_...</td>\n",
       "    </tr>\n",
       "    <tr>\n",
       "      <th>2638</th>\n",
       "      <td>aten::mm</td>\n",
       "      <td>72.782</td>\n",
       "      <td>182.273438</td>\n",
       "      <td>[/home/jovyan/work/ELTDM/eltdm_project/random_...</td>\n",
       "    </tr>\n",
       "    <tr>\n",
       "      <th>1153</th>\n",
       "      <td>aten::mm</td>\n",
       "      <td>95.272</td>\n",
       "      <td>176.480469</td>\n",
       "      <td>[/home/jovyan/work/ELTDM/eltdm_project/random_...</td>\n",
       "    </tr>\n",
       "    <tr>\n",
       "      <th>942</th>\n",
       "      <td>aten::mm</td>\n",
       "      <td>78.387</td>\n",
       "      <td>169.759766</td>\n",
       "      <td>[/home/jovyan/work/ELTDM/eltdm_project/random_...</td>\n",
       "    </tr>\n",
       "    <tr>\n",
       "      <th>3182</th>\n",
       "      <td>aten::mm</td>\n",
       "      <td>43.222</td>\n",
       "      <td>169.726562</td>\n",
       "      <td>[/home/jovyan/work/ELTDM/eltdm_project/random_...</td>\n",
       "    </tr>\n",
       "    <tr>\n",
       "      <th>795</th>\n",
       "      <td>aten::mm</td>\n",
       "      <td>51.252</td>\n",
       "      <td>169.376953</td>\n",
       "      <td>[/home/jovyan/work/ELTDM/eltdm_project/random_...</td>\n",
       "    </tr>\n",
       "    <tr>\n",
       "      <th>1966</th>\n",
       "      <td>aten::mm</td>\n",
       "      <td>86.490</td>\n",
       "      <td>167.679688</td>\n",
       "      <td>[/home/jovyan/work/ELTDM/eltdm_project/random_...</td>\n",
       "    </tr>\n",
       "    <tr>\n",
       "      <th>2881</th>\n",
       "      <td>aten::mm</td>\n",
       "      <td>39.971</td>\n",
       "      <td>157.531250</td>\n",
       "      <td>[/home/jovyan/work/ELTDM/eltdm_project/random_...</td>\n",
       "    </tr>\n",
       "    <tr>\n",
       "      <th>449</th>\n",
       "      <td>aten::mm</td>\n",
       "      <td>87.071</td>\n",
       "      <td>157.120117</td>\n",
       "      <td>[/home/jovyan/work/ELTDM/eltdm_project/random_...</td>\n",
       "    </tr>\n",
       "  </tbody>\n",
       "</table>\n",
       "</div>"
      ],
      "text/plain": [
       "             name      cpu         cuda  \\\n",
       "3402   aten::_cat  279.370  2230.718750   \n",
       "3200  aten::stack  108.535  1444.257812   \n",
       "1        aten::mm  678.319   775.423973   \n",
       "2387     aten::eq   47.034   282.207031   \n",
       "302      aten::mm   52.412   278.527832   \n",
       "1011     aten::eq   38.013   277.152344   \n",
       "1674     aten::to   30.062   272.734375   \n",
       "1486     aten::mm   71.220   227.683594   \n",
       "2305     aten::mm   49.285   216.707031   \n",
       "1595     aten::mm   42.148   214.652344   \n",
       "1243     aten::mm   44.206   209.375000   \n",
       "1742     aten::mm   57.338   187.457031   \n",
       "2638     aten::mm   72.782   182.273438   \n",
       "1153     aten::mm   95.272   176.480469   \n",
       "942      aten::mm   78.387   169.759766   \n",
       "3182     aten::mm   43.222   169.726562   \n",
       "795      aten::mm   51.252   169.376953   \n",
       "1966     aten::mm   86.490   167.679688   \n",
       "2881     aten::mm   39.971   157.531250   \n",
       "449      aten::mm   87.071   157.120117   \n",
       "\n",
       "                                                  stack  \n",
       "3402  [/home/jovyan/work/ELTDM/eltdm_project/random_...  \n",
       "3200  [/home/jovyan/work/ELTDM/eltdm_project/random_...  \n",
       "1     [/home/jovyan/work/ELTDM/eltdm_project/random_...  \n",
       "2387  [/opt/conda/lib/python3.8/site-packages/torch/...  \n",
       "302   [/home/jovyan/work/ELTDM/eltdm_project/random_...  \n",
       "1011  [/opt/conda/lib/python3.8/site-packages/torch/...  \n",
       "1674  [/home/jovyan/work/ELTDM/eltdm_project/random_...  \n",
       "1486  [/home/jovyan/work/ELTDM/eltdm_project/random_...  \n",
       "2305  [/home/jovyan/work/ELTDM/eltdm_project/random_...  \n",
       "1595  [/home/jovyan/work/ELTDM/eltdm_project/random_...  \n",
       "1243  [/home/jovyan/work/ELTDM/eltdm_project/random_...  \n",
       "1742  [/home/jovyan/work/ELTDM/eltdm_project/random_...  \n",
       "2638  [/home/jovyan/work/ELTDM/eltdm_project/random_...  \n",
       "1153  [/home/jovyan/work/ELTDM/eltdm_project/random_...  \n",
       "942   [/home/jovyan/work/ELTDM/eltdm_project/random_...  \n",
       "3182  [/home/jovyan/work/ELTDM/eltdm_project/random_...  \n",
       "795   [/home/jovyan/work/ELTDM/eltdm_project/random_...  \n",
       "1966  [/home/jovyan/work/ELTDM/eltdm_project/random_...  \n",
       "2881  [/home/jovyan/work/ELTDM/eltdm_project/random_...  \n",
       "449   [/home/jovyan/work/ELTDM/eltdm_project/random_...  "
      ]
     },
     "execution_count": 11,
     "metadata": {},
     "output_type": "execute_result"
    }
   ],
   "source": [
    "pdf.sort_values(\"cuda\", ascending=False).head(n=20)"
   ]
  },
  {
   "cell_type": "code",
   "execution_count": 12,
   "metadata": {},
   "outputs": [
    {
     "data": {
      "text/html": [
       "<div>\n",
       "<style scoped>\n",
       "    .dataframe tbody tr th:only-of-type {\n",
       "        vertical-align: middle;\n",
       "    }\n",
       "\n",
       "    .dataframe tbody tr th {\n",
       "        vertical-align: top;\n",
       "    }\n",
       "\n",
       "    .dataframe thead th {\n",
       "        text-align: right;\n",
       "    }\n",
       "</style>\n",
       "<table border=\"1\" class=\"dataframe\">\n",
       "  <thead>\n",
       "    <tr style=\"text-align: right;\">\n",
       "      <th></th>\n",
       "      <th>path</th>\n",
       "      <th>line</th>\n",
       "      <th>top</th>\n",
       "      <th>func</th>\n",
       "      <th>content</th>\n",
       "    </tr>\n",
       "  </thead>\n",
       "  <tbody>\n",
       "    <tr>\n",
       "      <th>0</th>\n",
       "      <td>/home/jovyan/work/ELTDM/eltdm_project/random_f...</td>\n",
       "      <td>112</td>\n",
       "      <td>class RandomForestGEMM:</td>\n",
       "      <td>vote</td>\n",
       "      <td>return self.back.stack([e.predict_onehot(X) fo...</td>\n",
       "    </tr>\n",
       "    <tr>\n",
       "      <th>1</th>\n",
       "      <td>/home/jovyan/work/ELTDM/eltdm_project/random_f...</td>\n",
       "      <td>115</td>\n",
       "      <td>class RandomForestGEMM:</td>\n",
       "      <td>predict</td>\n",
       "      <td>predictions = self.vote(X)</td>\n",
       "    </tr>\n",
       "    <tr>\n",
       "      <th>2</th>\n",
       "      <td>run_profile.py</td>\n",
       "      <td>26</td>\n",
       "      <td>def wrapper():</td>\n",
       "      <td>wrapper</td>\n",
       "      <td>return rf_pt_cuda.predict(X_pt_cuda)</td>\n",
       "    </tr>\n",
       "    <tr>\n",
       "      <th>3</th>\n",
       "      <td>/home/jovyan/work/ELTDM/eltdm_project/random_f...</td>\n",
       "      <td>70</td>\n",
       "      <td>def profile_command(func):</td>\n",
       "      <td>profile_command</td>\n",
       "      <td>func()</td>\n",
       "    </tr>\n",
       "    <tr>\n",
       "      <th>4</th>\n",
       "      <td>run_profile.py</td>\n",
       "      <td>28</td>\n",
       "      <td>def wrapper():</td>\n",
       "      <td>&lt;module&gt;</td>\n",
       "      <td>pdf = profile_command(wrapper)</td>\n",
       "    </tr>\n",
       "  </tbody>\n",
       "</table>\n",
       "</div>"
      ],
      "text/plain": [
       "                                                path  line  \\\n",
       "0  /home/jovyan/work/ELTDM/eltdm_project/random_f...   112   \n",
       "1  /home/jovyan/work/ELTDM/eltdm_project/random_f...   115   \n",
       "2                                     run_profile.py    26   \n",
       "3  /home/jovyan/work/ELTDM/eltdm_project/random_f...    70   \n",
       "4                                     run_profile.py    28   \n",
       "\n",
       "                          top             func  \\\n",
       "0     class RandomForestGEMM:             vote   \n",
       "1     class RandomForestGEMM:          predict   \n",
       "2              def wrapper():          wrapper   \n",
       "3  def profile_command(func):  profile_command   \n",
       "4              def wrapper():         <module>   \n",
       "\n",
       "                                             content  \n",
       "0  return self.back.stack([e.predict_onehot(X) fo...  \n",
       "1                         predictions = self.vote(X)  \n",
       "2               return rf_pt_cuda.predict(X_pt_cuda)  \n",
       "3                                             func()  \n",
       "4                     pdf = profile_command(wrapper)  "
      ]
     },
     "execution_count": 12,
     "metadata": {},
     "output_type": "execute_result"
    }
   ],
   "source": [
    "analyze_stack(pdf.sort_values(\"cuda\", ascending=False).head()[\"stack\"].values[0])"
   ]
  },
  {
   "cell_type": "code",
   "execution_count": null,
   "metadata": {},
   "outputs": [],
   "source": []
  }
 ],
 "metadata": {
  "kernelspec": {
   "display_name": "Python 3",
   "language": "python",
   "name": "python3"
  },
  "language_info": {
   "codemirror_mode": {
    "name": "ipython",
    "version": 3
   },
   "file_extension": ".py",
   "mimetype": "text/x-python",
   "name": "python",
   "nbconvert_exporter": "python",
   "pygments_lexer": "ipython3",
   "version": "3.8.5-final"
  }
 },
 "nbformat": 4,
 "nbformat_minor": 4
}